{
 "cells": [
  {
   "cell_type": "code",
   "execution_count": 1,
   "metadata": {},
   "outputs": [],
   "source": [
    "import pandas as pd\n",
    "import matplotlib.pyplot as plt\n",
    "import numpy as np"
   ]
  },
  {
   "cell_type": "code",
   "execution_count": 2,
   "metadata": {},
   "outputs": [],
   "source": [
    "wine_df = pd.read_csv('wine_dataframe.csv')"
   ]
  },
  {
   "cell_type": "code",
   "execution_count": 3,
   "metadata": {},
   "outputs": [],
   "source": [
    "wine_df = wine_df.dropna(how=\"any\")"
   ]
  },
  {
   "cell_type": "code",
   "execution_count": 4,
   "metadata": {},
   "outputs": [
    {
     "data": {
      "text/html": [
       "<div>\n",
       "<style scoped>\n",
       "    .dataframe tbody tr th:only-of-type {\n",
       "        vertical-align: middle;\n",
       "    }\n",
       "\n",
       "    .dataframe tbody tr th {\n",
       "        vertical-align: top;\n",
       "    }\n",
       "\n",
       "    .dataframe thead th {\n",
       "        text-align: right;\n",
       "    }\n",
       "</style>\n",
       "<table border=\"1\" class=\"dataframe\">\n",
       "  <thead>\n",
       "    <tr style=\"text-align: right;\">\n",
       "      <th></th>\n",
       "      <th>country</th>\n",
       "      <th>description</th>\n",
       "      <th>designation</th>\n",
       "      <th>points</th>\n",
       "      <th>price</th>\n",
       "      <th>province</th>\n",
       "      <th>region_1</th>\n",
       "      <th>title</th>\n",
       "      <th>variety</th>\n",
       "      <th>winery</th>\n",
       "    </tr>\n",
       "  </thead>\n",
       "  <tbody>\n",
       "    <tr>\n",
       "      <th>3</th>\n",
       "      <td>US</td>\n",
       "      <td>Pineapple rind, lemon pith and orange blossom ...</td>\n",
       "      <td>Reserve Late Harvest</td>\n",
       "      <td>87</td>\n",
       "      <td>13.0</td>\n",
       "      <td>Michigan</td>\n",
       "      <td>Lake Michigan Shore</td>\n",
       "      <td>St. Julian 2013 Reserve Late Harvest Riesling ...</td>\n",
       "      <td>Riesling</td>\n",
       "      <td>St. Julian</td>\n",
       "    </tr>\n",
       "    <tr>\n",
       "      <th>4</th>\n",
       "      <td>US</td>\n",
       "      <td>Much like the regular bottling from 2012, this...</td>\n",
       "      <td>Vintner's Reserve Wild Child Block</td>\n",
       "      <td>87</td>\n",
       "      <td>65.0</td>\n",
       "      <td>Oregon</td>\n",
       "      <td>Willamette Valley</td>\n",
       "      <td>Sweet Cheeks 2012 Vintner's Reserve Wild Child...</td>\n",
       "      <td>Pinot Noir</td>\n",
       "      <td>Sweet Cheeks</td>\n",
       "    </tr>\n",
       "    <tr>\n",
       "      <th>5</th>\n",
       "      <td>Spain</td>\n",
       "      <td>Blackberry and raspberry aromas show a typical...</td>\n",
       "      <td>Ars In Vitro</td>\n",
       "      <td>87</td>\n",
       "      <td>15.0</td>\n",
       "      <td>Northern Spain</td>\n",
       "      <td>Navarra</td>\n",
       "      <td>Tandem 2011 Ars In Vitro Tempranillo-Merlot (N...</td>\n",
       "      <td>Tempranillo-Merlot</td>\n",
       "      <td>Tandem</td>\n",
       "    </tr>\n",
       "    <tr>\n",
       "      <th>6</th>\n",
       "      <td>Italy</td>\n",
       "      <td>Here's a bright, informal red that opens with ...</td>\n",
       "      <td>Belsito</td>\n",
       "      <td>87</td>\n",
       "      <td>16.0</td>\n",
       "      <td>Sicily &amp; Sardinia</td>\n",
       "      <td>Vittoria</td>\n",
       "      <td>Terre di Giurfo 2013 Belsito Frappato (Vittoria)</td>\n",
       "      <td>Frappato</td>\n",
       "      <td>Terre di Giurfo</td>\n",
       "    </tr>\n",
       "    <tr>\n",
       "      <th>9</th>\n",
       "      <td>France</td>\n",
       "      <td>This has great depth of flavor with its fresh ...</td>\n",
       "      <td>Les Natures</td>\n",
       "      <td>87</td>\n",
       "      <td>27.0</td>\n",
       "      <td>Alsace</td>\n",
       "      <td>Alsace</td>\n",
       "      <td>Jean-Baptiste Adam 2012 Les Natures Pinot Gris...</td>\n",
       "      <td>Pinot Gris</td>\n",
       "      <td>Jean-Baptiste Adam</td>\n",
       "    </tr>\n",
       "  </tbody>\n",
       "</table>\n",
       "</div>"
      ],
      "text/plain": [
       "  country                                        description  \\\n",
       "3      US  Pineapple rind, lemon pith and orange blossom ...   \n",
       "4      US  Much like the regular bottling from 2012, this...   \n",
       "5   Spain  Blackberry and raspberry aromas show a typical...   \n",
       "6   Italy  Here's a bright, informal red that opens with ...   \n",
       "9  France  This has great depth of flavor with its fresh ...   \n",
       "\n",
       "                          designation  points  price           province  \\\n",
       "3                Reserve Late Harvest      87   13.0           Michigan   \n",
       "4  Vintner's Reserve Wild Child Block      87   65.0             Oregon   \n",
       "5                        Ars In Vitro      87   15.0     Northern Spain   \n",
       "6                             Belsito      87   16.0  Sicily & Sardinia   \n",
       "9                         Les Natures      87   27.0             Alsace   \n",
       "\n",
       "              region_1                                              title  \\\n",
       "3  Lake Michigan Shore  St. Julian 2013 Reserve Late Harvest Riesling ...   \n",
       "4    Willamette Valley  Sweet Cheeks 2012 Vintner's Reserve Wild Child...   \n",
       "5              Navarra  Tandem 2011 Ars In Vitro Tempranillo-Merlot (N...   \n",
       "6             Vittoria   Terre di Giurfo 2013 Belsito Frappato (Vittoria)   \n",
       "9               Alsace  Jean-Baptiste Adam 2012 Les Natures Pinot Gris...   \n",
       "\n",
       "              variety              winery  \n",
       "3            Riesling          St. Julian  \n",
       "4          Pinot Noir        Sweet Cheeks  \n",
       "5  Tempranillo-Merlot              Tandem  \n",
       "6            Frappato     Terre di Giurfo  \n",
       "9          Pinot Gris  Jean-Baptiste Adam  "
      ]
     },
     "execution_count": 4,
     "metadata": {},
     "output_type": "execute_result"
    }
   ],
   "source": [
    "wine_df.head()"
   ]
  },
  {
   "cell_type": "code",
   "execution_count": 5,
   "metadata": {},
   "outputs": [
    {
     "name": "stdout",
     "output_type": "stream",
     "text": [
      "<class 'pandas.core.frame.DataFrame'>\n",
      "Int64Index: 70175 entries, 3 to 129970\n",
      "Data columns (total 10 columns):\n",
      "country        70175 non-null object\n",
      "description    70175 non-null object\n",
      "designation    70175 non-null object\n",
      "points         70175 non-null int64\n",
      "price          70175 non-null float64\n",
      "province       70175 non-null object\n",
      "region_1       70175 non-null object\n",
      "title          70175 non-null object\n",
      "variety        70175 non-null object\n",
      "winery         70175 non-null object\n",
      "dtypes: float64(1), int64(1), object(8)\n",
      "memory usage: 5.9+ MB\n"
     ]
    }
   ],
   "source": [
    "wine_df.info()"
   ]
  },
  {
   "cell_type": "code",
   "execution_count": 6,
   "metadata": {},
   "outputs": [
    {
     "name": "stdout",
     "output_type": "stream",
     "text": [
      "What price? 15\n"
     ]
    },
    {
     "data": {
      "image/png": "[encoded data removed]",
      "text/plain": [
       "<Figure size 432x288 with 1 Axes>"
      ]
     },
     "metadata": {
      "needs_background": "light"
     },
     "output_type": "display_data"
    }
   ],
   "source": [
    "wine_df2 = wine_df\n",
    "price_df = wine_df2.loc[wine_df2['price'] < int(input(\"What price?\"))]\n",
    "\n",
    "price_df.plot(kind='scatter',x='price',y='points')\n",
    "plt.savefig('pricescatter.png')\n",
    "plt.show()"
   ]
  },
  {
   "cell_type": "code",
   "execution_count": 7,
   "metadata": {},
   "outputs": [
    {
     "data": {
      "text/plain": [
       "3         13.0\n",
       "5         15.0\n",
       "6         16.0\n",
       "9         27.0\n",
       "10        19.0\n",
       "16        30.0\n",
       "17        13.0\n",
       "18        28.0\n",
       "20        23.0\n",
       "22        19.0\n",
       "23        22.0\n",
       "24        35.0\n",
       "26        13.0\n",
       "28        17.0\n",
       "37        21.0\n",
       "38        11.0\n",
       "39        12.0\n",
       "42         9.0\n",
       "45        40.0\n",
       "46        13.0\n",
       "49        14.0\n",
       "52        14.0\n",
       "53        15.0\n",
       "55        30.0\n",
       "57        13.0\n",
       "61        17.0\n",
       "62        25.0\n",
       "64        26.0\n",
       "67        46.0\n",
       "71        40.0\n",
       "          ... \n",
       "129890    25.0\n",
       "129895    30.0\n",
       "129896    36.0\n",
       "129899    30.0\n",
       "129902    40.0\n",
       "129903    27.0\n",
       "129904    33.0\n",
       "129909    20.0\n",
       "129913    44.0\n",
       "129915    40.0\n",
       "129917    40.0\n",
       "129920    48.0\n",
       "129921    18.0\n",
       "129925    24.0\n",
       "129926    41.0\n",
       "129930    26.0\n",
       "129938    25.0\n",
       "129940    36.0\n",
       "129943    29.0\n",
       "129945    20.0\n",
       "129947    20.0\n",
       "129948    43.0\n",
       "129949    35.0\n",
       "129950    35.0\n",
       "129951    30.0\n",
       "129957    17.0\n",
       "129962    40.0\n",
       "129965    28.0\n",
       "129968    30.0\n",
       "129970    21.0\n",
       "Name: price, Length: 52817, dtype: float64"
      ]
     },
     "execution_count": 7,
     "metadata": {},
     "output_type": "execute_result"
    }
   ],
   "source": [
    "price_df=wine_df.loc[wine_df['price']<50]\n",
    "price_df['price']"
   ]
  },
  {
   "cell_type": "code",
   "execution_count": 8,
   "metadata": {},
   "outputs": [
    {
     "data": {
      "text/plain": [
       "price_groups\n",
       "<10      84.669211\n",
       "10-14    85.750581\n",
       "15-19    86.990667\n",
       "20-24    87.815502\n",
       "25-29    88.305810\n",
       "Name: points, dtype: float64"
      ]
     },
     "execution_count": 8,
     "metadata": {},
     "output_type": "execute_result"
    }
   ],
   "source": [
    "# Establish the bins \n",
    "price_bins = [0, 9.90, 14.90, 19.90, 24.90, 29.90, 34.90, 39.90, 99999]\n",
    "group_names = [\"<10\", \"10-14\", \"15-19\", \"20-24\", \"25-29\", \"30-34\", \"35-39\", \"40+\"]\n",
    "\n",
    "# Categorize the existing players using the age bins\n",
    "wine_df[\"price_groups\"] = pd.cut(wine_df[\"price\"], price_bins, labels=group_names)\n",
    "\n",
    "wine_df_price=wine_df.groupby(['price_groups']).mean()['points']\n",
    "wine_df_price.head()"
   ]
  },
  {
   "cell_type": "code",
   "execution_count": 9,
   "metadata": {},
   "outputs": [
    {
     "data": {
      "image/png": "[encoded data removed]",
      "text/plain": [
       "<Figure size 432x288 with 1 Axes>"
      ]
     },
     "metadata": {
      "needs_background": "light"
     },
     "output_type": "display_data"
    }
   ],
   "source": [
    "wine_df_price.plot(kind='line',x='price_groups',y='points')\n",
    "plt.title('Wine Points Trend by Price')\n",
    "plt.xlabel('Price Groups (USD)')\n",
    "plt.ylabel('Average Rating')\n",
    "plt.savefig('winepoints.png')\n",
    "plt.show()"
   ]
  },
  {
   "cell_type": "code",
   "execution_count": 10,
   "metadata": {},
   "outputs": [
    {
     "data": {
      "text/plain": [
       "40+      26165\n",
       "15-19     9750\n",
       "20-24     8412\n",
       "25-29     7436\n",
       "10-14     6459\n",
       "35-39     5639\n",
       "30-34     5528\n",
       "<10        786\n",
       "Name: price_groups, dtype: int64"
      ]
     },
     "execution_count": 10,
     "metadata": {},
     "output_type": "execute_result"
    }
   ],
   "source": [
    "# wine_df.loc(wine_df['price_groups'] == '10-14')\n",
    "wine_df[\"price_groups\"].value_counts()"
   ]
  },
  {
   "cell_type": "code",
   "execution_count": null,
   "metadata": {},
   "outputs": [],
   "source": []
  },
  {
   "cell_type": "code",
   "execution_count": null,
   "metadata": {},
   "outputs": [],
   "source": []
  }
 ],
 "metadata": {
  "kernelspec": {
   "display_name": "Python 3",
   "language": "python",
   "name": "python3"
  },
  "language_info": {
   "codemirror_mode": {
    "name": "ipython",
    "version": 3
   },
   "file_extension": ".py",
   "mimetype": "text/x-python",
   "name": "python",
   "nbconvert_exporter": "python",
   "pygments_lexer": "ipython3",
   "version": "3.7.4"
  }
 },
 "nbformat": 4,
 "nbformat_minor": 2
}
